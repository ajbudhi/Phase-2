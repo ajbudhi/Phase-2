{
 "cells": [
  {
   "cell_type": "code",
   "execution_count": 35,
   "id": "954a34f5",
   "metadata": {},
   "outputs": [],
   "source": [
    "import sqlite3\n",
    "import pandas as pd"
   ]
  },
  {
   "cell_type": "code",
   "execution_count": 36,
   "id": "1c0c60f9",
   "metadata": {},
   "outputs": [],
   "source": [
    "Cinema = \"im.db.3\"\n",
    "Budget = \"tn.movie_budgets.csv\""
   ]
  },
  {
   "cell_type": "code",
   "execution_count": 37,
   "id": "2e1f38c4",
   "metadata": {},
   "outputs": [],
   "source": [
    "conn = sqlite3.connect(Cinema)\n",
    "cursor = conn.cursor()"
   ]
  },
  {
   "cell_type": "code",
   "execution_count": null,
   "id": "da7c8618",
   "metadata": {},
   "outputs": [],
   "source": [
    "pd.read_sql(\"\"\"\n",
    "CREATE TABLE Movie_info AS\n",
    "SELECT mb.movie_id, mb.primary_title, mb.start_year, mb.genres, d.person_id, p.primary_name\n",
    "FROM movie_basics mb\n",
    "JOIN directors d ON mb.movie_id = d.movie_id\n",
    "JOIN persons p ON d.person_id = p.person_id;\n",
    "ORDER BY start_year DESC\n",
    ";\n",
    "\"\"\"\n",
    "\n",
    ", conn)"
   ]
  },
  {
   "cell_type": "code",
   "execution_count": 38,
   "id": "268685e0",
   "metadata": {
    "scrolled": true
   },
   "outputs": [
    {
     "data": {
      "text/html": [
       "<div>\n",
       "<style scoped>\n",
       "    .dataframe tbody tr th:only-of-type {\n",
       "        vertical-align: middle;\n",
       "    }\n",
       "\n",
       "    .dataframe tbody tr th {\n",
       "        vertical-align: top;\n",
       "    }\n",
       "\n",
       "    .dataframe thead th {\n",
       "        text-align: right;\n",
       "    }\n",
       "</style>\n",
       "<table border=\"1\" class=\"dataframe\">\n",
       "  <thead>\n",
       "    <tr style=\"text-align: right;\">\n",
       "      <th></th>\n",
       "      <th>movie_id</th>\n",
       "      <th>primary_title</th>\n",
       "      <th>start_year</th>\n",
       "      <th>genres</th>\n",
       "      <th>person_id</th>\n",
       "      <th>primary_name</th>\n",
       "    </tr>\n",
       "  </thead>\n",
       "  <tbody>\n",
       "    <tr>\n",
       "      <th>0</th>\n",
       "      <td>tt5174640</td>\n",
       "      <td>100 Years</td>\n",
       "      <td>2115</td>\n",
       "      <td>Drama</td>\n",
       "      <td>nm0001675</td>\n",
       "      <td>Robert Rodriguez</td>\n",
       "    </tr>\n",
       "    <tr>\n",
       "      <th>1</th>\n",
       "      <td>tt5637536</td>\n",
       "      <td>Avatar 5</td>\n",
       "      <td>2027</td>\n",
       "      <td>Action,Adventure,Fantasy</td>\n",
       "      <td>nm0000116</td>\n",
       "      <td>James Cameron</td>\n",
       "    </tr>\n",
       "    <tr>\n",
       "      <th>2</th>\n",
       "      <td>tt5637536</td>\n",
       "      <td>Avatar 5</td>\n",
       "      <td>2027</td>\n",
       "      <td>Action,Adventure,Fantasy</td>\n",
       "      <td>nm0000116</td>\n",
       "      <td>James Cameron</td>\n",
       "    </tr>\n",
       "    <tr>\n",
       "      <th>3</th>\n",
       "      <td>tt3095356</td>\n",
       "      <td>Avatar 4</td>\n",
       "      <td>2025</td>\n",
       "      <td>Action,Adventure,Fantasy</td>\n",
       "      <td>nm0000116</td>\n",
       "      <td>James Cameron</td>\n",
       "    </tr>\n",
       "    <tr>\n",
       "      <th>4</th>\n",
       "      <td>tt3095356</td>\n",
       "      <td>Avatar 4</td>\n",
       "      <td>2025</td>\n",
       "      <td>Action,Adventure,Fantasy</td>\n",
       "      <td>nm0000116</td>\n",
       "      <td>James Cameron</td>\n",
       "    </tr>\n",
       "    <tr>\n",
       "      <th>...</th>\n",
       "      <td>...</td>\n",
       "      <td>...</td>\n",
       "      <td>...</td>\n",
       "      <td>...</td>\n",
       "      <td>...</td>\n",
       "      <td>...</td>\n",
       "    </tr>\n",
       "    <tr>\n",
       "      <th>291166</th>\n",
       "      <td>tt9852508</td>\n",
       "      <td>Viyapath Bambara</td>\n",
       "      <td>2010</td>\n",
       "      <td>Drama</td>\n",
       "      <td>nm10510269</td>\n",
       "      <td>Prasad De Silva</td>\n",
       "    </tr>\n",
       "    <tr>\n",
       "      <th>291167</th>\n",
       "      <td>tt9875120</td>\n",
       "      <td>Frostbite</td>\n",
       "      <td>2010</td>\n",
       "      <td>Documentary</td>\n",
       "      <td>nm2901551</td>\n",
       "      <td>Jorge Requena Ramos</td>\n",
       "    </tr>\n",
       "    <tr>\n",
       "      <th>291168</th>\n",
       "      <td>tt9875242</td>\n",
       "      <td>15 Fotografii</td>\n",
       "      <td>2010</td>\n",
       "      <td>Drama</td>\n",
       "      <td>nm2437971</td>\n",
       "      <td>Franciszek Dzida</td>\n",
       "    </tr>\n",
       "    <tr>\n",
       "      <th>291169</th>\n",
       "      <td>tt9878374</td>\n",
       "      <td>Regi lagni comprensorio di stato</td>\n",
       "      <td>2010</td>\n",
       "      <td>Documentary</td>\n",
       "      <td>nm3462989</td>\n",
       "      <td>Loris Arduino</td>\n",
       "    </tr>\n",
       "    <tr>\n",
       "      <th>291170</th>\n",
       "      <td>tt9905932</td>\n",
       "      <td>Footloose in London: All the Best Sights of ou...</td>\n",
       "      <td>2010</td>\n",
       "      <td>None</td>\n",
       "      <td>nm1645815</td>\n",
       "      <td>David Rixon</td>\n",
       "    </tr>\n",
       "  </tbody>\n",
       "</table>\n",
       "<p>291171 rows × 6 columns</p>\n",
       "</div>"
      ],
      "text/plain": [
       "         movie_id                                      primary_title  \\\n",
       "0       tt5174640                                          100 Years   \n",
       "1       tt5637536                                           Avatar 5   \n",
       "2       tt5637536                                           Avatar 5   \n",
       "3       tt3095356                                           Avatar 4   \n",
       "4       tt3095356                                           Avatar 4   \n",
       "...           ...                                                ...   \n",
       "291166  tt9852508                                   Viyapath Bambara   \n",
       "291167  tt9875120                                          Frostbite   \n",
       "291168  tt9875242                                      15 Fotografii   \n",
       "291169  tt9878374                   Regi lagni comprensorio di stato   \n",
       "291170  tt9905932  Footloose in London: All the Best Sights of ou...   \n",
       "\n",
       "        start_year                    genres   person_id         primary_name  \n",
       "0             2115                     Drama   nm0001675     Robert Rodriguez  \n",
       "1             2027  Action,Adventure,Fantasy   nm0000116        James Cameron  \n",
       "2             2027  Action,Adventure,Fantasy   nm0000116        James Cameron  \n",
       "3             2025  Action,Adventure,Fantasy   nm0000116        James Cameron  \n",
       "4             2025  Action,Adventure,Fantasy   nm0000116        James Cameron  \n",
       "...            ...                       ...         ...                  ...  \n",
       "291166        2010                     Drama  nm10510269      Prasad De Silva  \n",
       "291167        2010               Documentary   nm2901551  Jorge Requena Ramos  \n",
       "291168        2010                     Drama   nm2437971     Franciszek Dzida  \n",
       "291169        2010               Documentary   nm3462989        Loris Arduino  \n",
       "291170        2010                      None   nm1645815          David Rixon  \n",
       "\n",
       "[291171 rows x 6 columns]"
      ]
     },
     "execution_count": 38,
     "metadata": {},
     "output_type": "execute_result"
    }
   ],
   "source": [
    "pd.read_sql(\"\"\"\n",
    "SELECT *\n",
    "FROM Movie_info\n",
    ";\n",
    "\"\"\"\n",
    ",conn)"
   ]
  },
  {
   "cell_type": "code",
   "execution_count": 39,
   "id": "f64730b1",
   "metadata": {},
   "outputs": [],
   "source": [
    "Movie_Info = pd.read_sql_query(\"SELECT * FROM Movie_info\", conn)"
   ]
  },
  {
   "cell_type": "code",
   "execution_count": null,
   "id": "a6cc391d",
   "metadata": {
    "collapsed": true
   },
   "outputs": [],
   "source": [
    "Movie_Budget = pd.read_csv(Budget)"
   ]
  },
  {
   "cell_type": "code",
   "execution_count": 47,
   "id": "c8e92796",
   "metadata": {},
   "outputs": [],
   "source": [
    "Movie_Info.rename(columns={\"primary_title\": \"Title\", \"start_year\": \"Year\", \"primary_name\": \"Director\", \"genres\": \"Genre\"}, inplace = True)"
   ]
  },
  {
   "cell_type": "code",
   "execution_count": 45,
   "id": "fbcd224a",
   "metadata": {},
   "outputs": [],
   "source": [
    "Movie_Info.drop(columns = [\"movie_id\", \"person_id\"], inplace = True)"
   ]
  },
  {
   "cell_type": "code",
   "execution_count": 49,
   "id": "0b46b593",
   "metadata": {},
   "outputs": [
    {
     "name": "stdout",
     "output_type": "stream",
     "text": [
      "<class 'pandas.core.frame.DataFrame'>\n",
      "RangeIndex: 291171 entries, 0 to 291170\n",
      "Data columns (total 4 columns):\n",
      " #   Column    Non-Null Count   Dtype \n",
      "---  ------    --------------   ----- \n",
      " 0   Title     291171 non-null  object\n",
      " 1   Year      291171 non-null  int64 \n",
      " 2   Genre     284612 non-null  object\n",
      " 3   Director  291171 non-null  object\n",
      "dtypes: int64(1), object(3)\n",
      "memory usage: 8.9+ MB\n"
     ]
    }
   ],
   "source": [
    "Movie_Info.info()"
   ]
  },
  {
   "cell_type": "code",
   "execution_count": 60,
   "id": "48f52789",
   "metadata": {},
   "outputs": [],
   "source": [
    "Movie_Info = Movie_Info[Movie_Info[\"Year\"] < 2023]"
   ]
  },
  {
   "cell_type": "code",
   "execution_count": 61,
   "id": "5d15061d",
   "metadata": {},
   "outputs": [
    {
     "name": "stdout",
     "output_type": "stream",
     "text": [
      "<class 'pandas.core.frame.DataFrame'>\n",
      "Int64Index: 291159 entries, 12 to 291170\n",
      "Data columns (total 4 columns):\n",
      " #   Column    Non-Null Count   Dtype \n",
      "---  ------    --------------   ----- \n",
      " 0   Title     291159 non-null  object\n",
      " 1   Year      291159 non-null  int64 \n",
      " 2   Genre     284600 non-null  object\n",
      " 3   Director  291159 non-null  object\n",
      "dtypes: int64(1), object(3)\n",
      "memory usage: 11.1+ MB\n"
     ]
    }
   ],
   "source": [
    "Movie_Info.info()"
   ]
  },
  {
   "cell_type": "code",
   "execution_count": 32,
   "id": "be0d1478",
   "metadata": {},
   "outputs": [
    {
     "data": {
      "text/html": [
       "<div>\n",
       "<style scoped>\n",
       "    .dataframe tbody tr th:only-of-type {\n",
       "        vertical-align: middle;\n",
       "    }\n",
       "\n",
       "    .dataframe tbody tr th {\n",
       "        vertical-align: top;\n",
       "    }\n",
       "\n",
       "    .dataframe thead th {\n",
       "        text-align: right;\n",
       "    }\n",
       "</style>\n",
       "<table border=\"1\" class=\"dataframe\">\n",
       "  <thead>\n",
       "    <tr style=\"text-align: right;\">\n",
       "      <th></th>\n",
       "      <th>id</th>\n",
       "      <th>release_date</th>\n",
       "      <th>movie</th>\n",
       "      <th>production_budget</th>\n",
       "      <th>domestic_gross</th>\n",
       "      <th>worldwide_gross</th>\n",
       "    </tr>\n",
       "  </thead>\n",
       "  <tbody>\n",
       "    <tr>\n",
       "      <th>0</th>\n",
       "      <td>1</td>\n",
       "      <td>Dec 18, 2009</td>\n",
       "      <td>Avatar</td>\n",
       "      <td>$425,000,000</td>\n",
       "      <td>$760,507,625</td>\n",
       "      <td>$2,776,345,279</td>\n",
       "    </tr>\n",
       "    <tr>\n",
       "      <th>1</th>\n",
       "      <td>2</td>\n",
       "      <td>May 20, 2011</td>\n",
       "      <td>Pirates of the Caribbean: On Stranger Tides</td>\n",
       "      <td>$410,600,000</td>\n",
       "      <td>$241,063,875</td>\n",
       "      <td>$1,045,663,875</td>\n",
       "    </tr>\n",
       "    <tr>\n",
       "      <th>2</th>\n",
       "      <td>3</td>\n",
       "      <td>Jun 7, 2019</td>\n",
       "      <td>Dark Phoenix</td>\n",
       "      <td>$350,000,000</td>\n",
       "      <td>$42,762,350</td>\n",
       "      <td>$149,762,350</td>\n",
       "    </tr>\n",
       "    <tr>\n",
       "      <th>3</th>\n",
       "      <td>4</td>\n",
       "      <td>May 1, 2015</td>\n",
       "      <td>Avengers: Age of Ultron</td>\n",
       "      <td>$330,600,000</td>\n",
       "      <td>$459,005,868</td>\n",
       "      <td>$1,403,013,963</td>\n",
       "    </tr>\n",
       "    <tr>\n",
       "      <th>4</th>\n",
       "      <td>5</td>\n",
       "      <td>Dec 15, 2017</td>\n",
       "      <td>Star Wars Ep. VIII: The Last Jedi</td>\n",
       "      <td>$317,000,000</td>\n",
       "      <td>$620,181,382</td>\n",
       "      <td>$1,316,721,747</td>\n",
       "    </tr>\n",
       "  </tbody>\n",
       "</table>\n",
       "</div>"
      ],
      "text/plain": [
       "   id  release_date                                        movie  \\\n",
       "0   1  Dec 18, 2009                                       Avatar   \n",
       "1   2  May 20, 2011  Pirates of the Caribbean: On Stranger Tides   \n",
       "2   3   Jun 7, 2019                                 Dark Phoenix   \n",
       "3   4   May 1, 2015                      Avengers: Age of Ultron   \n",
       "4   5  Dec 15, 2017            Star Wars Ep. VIII: The Last Jedi   \n",
       "\n",
       "  production_budget domestic_gross worldwide_gross  \n",
       "0      $425,000,000   $760,507,625  $2,776,345,279  \n",
       "1      $410,600,000   $241,063,875  $1,045,663,875  \n",
       "2      $350,000,000    $42,762,350    $149,762,350  \n",
       "3      $330,600,000   $459,005,868  $1,403,013,963  \n",
       "4      $317,000,000   $620,181,382  $1,316,721,747  "
      ]
     },
     "execution_count": 32,
     "metadata": {},
     "output_type": "execute_result"
    }
   ],
   "source": [
    "Movie_Budget.head()"
   ]
  },
  {
   "cell_type": "code",
   "execution_count": null,
   "id": "9c739fe6",
   "metadata": {},
   "outputs": [],
   "source": []
  }
 ],
 "metadata": {
  "kernelspec": {
   "display_name": "Python (learn-env)",
   "language": "python",
   "name": "learn-env"
  },
  "language_info": {
   "codemirror_mode": {
    "name": "ipython",
    "version": 3
   },
   "file_extension": ".py",
   "mimetype": "text/x-python",
   "name": "python",
   "nbconvert_exporter": "python",
   "pygments_lexer": "ipython3",
   "version": "3.8.5"
  }
 },
 "nbformat": 4,
 "nbformat_minor": 5
}
